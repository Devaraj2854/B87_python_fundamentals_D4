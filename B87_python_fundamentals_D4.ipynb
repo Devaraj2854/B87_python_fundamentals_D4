{
 "cells": [
  {
   "cell_type": "code",
   "execution_count": 2,
   "id": "61ae6bee-75bf-4247-9b4b-d927cf4f4d99",
   "metadata": {},
   "outputs": [],
   "source": [
    "students = ['arpita', 'aisa', 'kaleem', 'ashwini', 'bhuvan', 'david', 'deva', 'shafi']"
   ]
  },
  {
   "cell_type": "code",
   "execution_count": 3,
   "id": "38fc62fa-42c1-4928-b035-495537f64ed9",
   "metadata": {},
   "outputs": [
    {
     "name": "stdout",
     "output_type": "stream",
     "text": [
      "['arpita', 'aisa', 'kaleem', 'ashwini', 'bhuvan', 'david', 'deva', 'shafi']\n"
     ]
    }
   ],
   "source": [
    "print(students)"
   ]
  },
  {
   "cell_type": "code",
   "execution_count": 4,
   "id": "fb0ecdbf-b438-48f4-956d-4d93b087d657",
   "metadata": {},
   "outputs": [],
   "source": [
    "# organising the list datatyepe"
   ]
  },
  {
   "cell_type": "code",
   "execution_count": 5,
   "id": "d671d6c2-fab8-42fb-a118-6f1c99e51c41",
   "metadata": {},
   "outputs": [],
   "source": [
    "cars = ['bmw','tata','suzuki','audi','toyota','benz']"
   ]
  },
  {
   "cell_type": "code",
   "execution_count": 6,
   "id": "43c8c168-9c9e-4739-b38f-1b1e56f57041",
   "metadata": {},
   "outputs": [
    {
     "name": "stdout",
     "output_type": "stream",
     "text": [
      "['bmw', 'tata', 'suzuki', 'audi', 'toyota', 'benz']\n"
     ]
    }
   ],
   "source": [
    "print(cars)"
   ]
  },
  {
   "cell_type": "code",
   "execution_count": 20,
   "id": "847ca610-0ba4-42ef-952d-762f90837663",
   "metadata": {},
   "outputs": [],
   "source": [
    "# how to apply sorted method\n",
    "#1. temporory method  (sorted)\n",
    "#2. Permanet method (sort)"
   ]
  },
  {
   "cell_type": "code",
   "execution_count": 10,
   "id": "836274e1-65fb-4a7c-95c1-c45cdd8a4893",
   "metadata": {},
   "outputs": [],
   "source": [
    "#req : i want to organize the list in the \n"
   ]
  },
  {
   "cell_type": "code",
   "execution_count": 11,
   "id": "dee4c39d-caf8-401b-85a5-7b5c58864f3a",
   "metadata": {},
   "outputs": [
    {
     "name": "stdout",
     "output_type": "stream",
     "text": [
      "['audi', 'benz', 'bmw', 'suzuki', 'tata', 'toyota']\n"
     ]
    }
   ],
   "source": [
    "print(sorted(cars))"
   ]
  },
  {
   "cell_type": "code",
   "execution_count": 12,
   "id": "f2319d41-97df-479f-b31b-037c357a19f4",
   "metadata": {},
   "outputs": [],
   "source": [
    "cars.sort()"
   ]
  },
  {
   "cell_type": "code",
   "execution_count": 14,
   "id": "44d12ba9-7fb8-4b9a-82a5-a5e610ddf470",
   "metadata": {},
   "outputs": [
    {
     "name": "stdout",
     "output_type": "stream",
     "text": [
      "['audi', 'benz', 'bmw', 'suzuki', 'tata', 'toyota']\n"
     ]
    }
   ],
   "source": [
    "print(cars)"
   ]
  },
  {
   "cell_type": "code",
   "execution_count": 18,
   "id": "7153c0bf-97ef-4618-a388-98c3a5011fad",
   "metadata": {},
   "outputs": [],
   "source": [
    "cars.reverse()"
   ]
  },
  {
   "cell_type": "code",
   "execution_count": 19,
   "id": "d88f5d1e-9c00-48bb-acbd-91819ca06ae6",
   "metadata": {},
   "outputs": [
    {
     "name": "stdout",
     "output_type": "stream",
     "text": [
      "['toyota', 'tata', 'suzuki', 'bmw', 'benz', 'audi']\n"
     ]
    }
   ],
   "source": [
    "print(cars)"
   ]
  },
  {
   "cell_type": "code",
   "execution_count": 15,
   "id": "b1c4d31f-9d3a-4e73-8240-5d9fa5e4dfc1",
   "metadata": {},
   "outputs": [],
   "source": [
    "# i want to count no of elements in the list\n"
   ]
  },
  {
   "cell_type": "code",
   "execution_count": 16,
   "id": "cdd7a2bf-5632-4f9e-8bf6-5b6ab9c23c88",
   "metadata": {},
   "outputs": [
    {
     "data": {
      "text/plain": [
       "6"
      ]
     },
     "execution_count": 16,
     "metadata": {},
     "output_type": "execute_result"
    }
   ],
   "source": [
    "len(cars)"
   ]
  },
  {
   "cell_type": "code",
   "execution_count": 21,
   "id": "bc145759-127f-4219-9f6d-5e7ca9ccfc09",
   "metadata": {},
   "outputs": [],
   "source": [
    "#introduction to SLICING"
   ]
  },
  {
   "cell_type": "code",
   "execution_count": 22,
   "id": "af81fdb4-797f-4858-bebb-3bbd039bacdd",
   "metadata": {},
   "outputs": [
    {
     "name": "stdout",
     "output_type": "stream",
     "text": [
      "['arpita', 'aisa', 'kaleem', 'ashwini', 'bhuvan', 'david', 'deva', 'shafi']\n"
     ]
    }
   ],
   "source": [
    "print(students)"
   ]
  },
  {
   "cell_type": "code",
   "execution_count": 26,
   "id": "d164c053-5e57-463b-91fd-a62cb8cc3779",
   "metadata": {},
   "outputs": [],
   "source": [
    "# we have slices the above students names { like : arpita,asia}\n",
    "# Syntax: [Start_value:Stop_value : step_count]"
   ]
  },
  {
   "cell_type": "code",
   "execution_count": 27,
   "id": "bc72d320-4594-4ccc-9279-adb76d58dddf",
   "metadata": {},
   "outputs": [
    {
     "name": "stdout",
     "output_type": "stream",
     "text": [
      "['arpita']\n"
     ]
    }
   ],
   "source": [
    "print(students[0:1])"
   ]
  },
  {
   "cell_type": "code",
   "execution_count": 28,
   "id": "40ca7cf3-d870-4a93-9948-23d874c50b81",
   "metadata": {},
   "outputs": [],
   "source": [
    "#req : i want to include arpitha and aisa in the slice"
   ]
  },
  {
   "cell_type": "code",
   "execution_count": 29,
   "id": "9652fb1d-89a5-43fc-8505-b2120a2082ad",
   "metadata": {},
   "outputs": [
    {
     "name": "stdout",
     "output_type": "stream",
     "text": [
      "['arpita']\n"
     ]
    }
   ],
   "source": [
    "print(students[0:1])"
   ]
  },
  {
   "cell_type": "code",
   "execution_count": 30,
   "id": "ba605a8e-2a9a-4569-9774-3183653edcb1",
   "metadata": {},
   "outputs": [
    {
     "name": "stdout",
     "output_type": "stream",
     "text": [
      "['arpita', 'aisa']\n"
     ]
    }
   ],
   "source": [
    "print(students[0:2])"
   ]
  },
  {
   "cell_type": "code",
   "execution_count": 31,
   "id": "732b24be-d411-4c39-a749-bf7d3157667a",
   "metadata": {},
   "outputs": [
    {
     "name": "stdout",
     "output_type": "stream",
     "text": [
      "['kaleem', 'ashwini']\n"
     ]
    }
   ],
   "source": [
    "print(students[2:4])"
   ]
  },
  {
   "cell_type": "code",
   "execution_count": 32,
   "id": "06648fe2-9617-44d6-954b-7128dca94275",
   "metadata": {},
   "outputs": [
    {
     "name": "stdout",
     "output_type": "stream",
     "text": [
      "['arpita', 'kaleem', 'bhuvan', 'deva']\n"
     ]
    }
   ],
   "source": [
    "print(students[0:7:2])"
   ]
  },
  {
   "cell_type": "code",
   "execution_count": null,
   "id": "a090c309-c2a8-429f-a673-83e174d8716e",
   "metadata": {},
   "outputs": [],
   "source": []
  },
  {
   "cell_type": "code",
   "execution_count": 33,
   "id": "5093c0e4-9e21-4fe7-88f2-9745b2964b59",
   "metadata": {},
   "outputs": [],
   "source": [
    "# Introduction to tuple data type"
   ]
  },
  {
   "cell_type": "code",
   "execution_count": 34,
   "id": "0d9627ba-a614-4ca9-b991-dfc7612ef70b",
   "metadata": {},
   "outputs": [],
   "source": [
    "# defination: An immuable list is called tuple"
   ]
  },
  {
   "cell_type": "code",
   "execution_count": 35,
   "id": "b48d8a57-0ab1-49ed-bd05-963e48cd98b8",
   "metadata": {},
   "outputs": [],
   "source": [
    "#classification : it is clasified as an immuable data type"
   ]
  },
  {
   "cell_type": "code",
   "execution_count": 37,
   "id": "77f1fa68-bf39-4ee2-9d7d-91d1f854e350",
   "metadata": {},
   "outputs": [],
   "source": [
    "# how to define the tuple data type\n",
    "#data is fixed in the tuple data (data can't change)"
   ]
  },
  {
   "cell_type": "code",
   "execution_count": 46,
   "id": "6d3f4ed1-d46c-48d2-9a82-f61f0adb1fe0",
   "metadata": {},
   "outputs": [],
   "source": [
    "dimensions = (20,50)"
   ]
  },
  {
   "cell_type": "code",
   "execution_count": 41,
   "id": "264f81ab-3747-41b7-876c-91b0bf1aa255",
   "metadata": {},
   "outputs": [
    {
     "data": {
      "text/plain": [
       "float"
      ]
     },
     "execution_count": 41,
     "metadata": {},
     "output_type": "execute_result"
    }
   ],
   "source": [
    "type(dimensions)"
   ]
  },
  {
   "cell_type": "code",
   "execution_count": 43,
   "id": "d5d6d2ec-2b63-4d1a-8299-f487e8a64a0d",
   "metadata": {},
   "outputs": [],
   "source": [
    "# dimensions[0] = 30   --- if you excude this you will get error"
   ]
  },
  {
   "cell_type": "code",
   "execution_count": 47,
   "id": "60720151-f656-463a-8e4d-8b0fbd4cda3d",
   "metadata": {},
   "outputs": [
    {
     "name": "stdout",
     "output_type": "stream",
     "text": [
      "50\n"
     ]
    }
   ],
   "source": [
    "print(dimensions[1])"
   ]
  },
  {
   "cell_type": "code",
   "execution_count": null,
   "id": "48bf884e-d56d-417a-b25e-b25faade1576",
   "metadata": {},
   "outputs": [],
   "source": []
  },
  {
   "cell_type": "code",
   "execution_count": null,
   "id": "2fe11850-7ae2-4d96-9226-8e488f4611d1",
   "metadata": {},
   "outputs": [],
   "source": []
  },
  {
   "cell_type": "code",
   "execution_count": null,
   "id": "104a9e7a-8f1f-45a2-9e32-9a35ec294b8b",
   "metadata": {},
   "outputs": [],
   "source": []
  },
  {
   "cell_type": "code",
   "execution_count": null,
   "id": "de2c1541-64d4-4fbf-8897-bd2228973088",
   "metadata": {},
   "outputs": [],
   "source": []
  },
  {
   "cell_type": "code",
   "execution_count": null,
   "id": "ad3d93b1-a196-410f-803a-c844c07fe5a6",
   "metadata": {},
   "outputs": [],
   "source": []
  },
  {
   "cell_type": "code",
   "execution_count": null,
   "id": "3a6da162-2271-43f4-918e-5f0420eeee3a",
   "metadata": {},
   "outputs": [],
   "source": []
  },
  {
   "cell_type": "code",
   "execution_count": null,
   "id": "c1f32ad2-a105-479e-9884-1b723ae1a7b4",
   "metadata": {},
   "outputs": [],
   "source": []
  },
  {
   "cell_type": "code",
   "execution_count": null,
   "id": "7ff42a1e-8f4f-46a0-a42c-3fcd85982a84",
   "metadata": {},
   "outputs": [],
   "source": []
  },
  {
   "cell_type": "code",
   "execution_count": null,
   "id": "830b4e88-b044-442d-8730-356815f0c662",
   "metadata": {},
   "outputs": [],
   "source": []
  },
  {
   "cell_type": "code",
   "execution_count": null,
   "id": "306085af-f449-4ec3-a11e-0967eeb4b3aa",
   "metadata": {},
   "outputs": [],
   "source": []
  },
  {
   "cell_type": "code",
   "execution_count": null,
   "id": "27d8ec32-4f48-4e02-b6ee-0107fb69b010",
   "metadata": {},
   "outputs": [],
   "source": []
  },
  {
   "cell_type": "code",
   "execution_count": null,
   "id": "29bde373-f291-498a-ab40-c46d158c124a",
   "metadata": {},
   "outputs": [],
   "source": []
  },
  {
   "cell_type": "code",
   "execution_count": null,
   "id": "258e7102-31b8-423c-97c0-d4b3d701d4e3",
   "metadata": {},
   "outputs": [],
   "source": []
  }
 ],
 "metadata": {
  "kernelspec": {
   "display_name": "Python 3 (ipykernel)",
   "language": "python",
   "name": "python3"
  },
  "language_info": {
   "codemirror_mode": {
    "name": "ipython",
    "version": 3
   },
   "file_extension": ".py",
   "mimetype": "text/x-python",
   "name": "python",
   "nbconvert_exporter": "python",
   "pygments_lexer": "ipython3",
   "version": "3.13.5"
  }
 },
 "nbformat": 4,
 "nbformat_minor": 5
}
